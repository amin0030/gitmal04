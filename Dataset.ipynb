{
 "cells": [
  {
   "cell_type": "code",
   "execution_count": 1,
   "id": "ff3b37c7-02c4-47af-86ce-a5dfaeac48ff",
   "metadata": {},
   "outputs": [],
   "source": [
    "import pandas as pd\n",
    "import numpy as np\n",
    "import os\n"
   ]
  },
  {
   "cell_type": "code",
   "execution_count": 3,
   "id": "a5a32b67-b4ff-47c6-a726-785ee51815ae",
   "metadata": {},
   "outputs": [],
   "source": [
    "# Define folder and file path\n",
    "folder_path = r\"C:\\Users\\Amina.AMIN\\Desktop\\gitmal04\"\n",
    "file_name = \"life_expectancy.csv\"\n",
    "file_path = os.path.join(folder_path, file_name)\n",
    "\n",
    "# Define years and regions\n",
    "years = list(range(1800, 2017))  # From 1800 to 2016\n",
    "regions = ['North America', 'Europe', 'Asia', 'Africa', 'Oceania']\n"
   ]
  },
  {
   "cell_type": "code",
   "execution_count": 5,
   "id": "a92380fa-d4cc-41f7-8cb5-be4c2c4dee21",
   "metadata": {},
   "outputs": [],
   "source": [
    "# Generate random life expectancy data\n",
    "np.random.seed(42)  # For reproducibility\n",
    "data = []\n",
    "\n",
    "for year in years:\n",
    "    for region in regions:\n",
    "        life_expectancy = np.random.uniform(20, 80)  # Random life expectancy between 20 and 80\n",
    "        data.append({'Year': year, 'Region': region, 'Life expectancy': round(life_expectancy, 2)})\n",
    "\n",
    "# Create a DataFrame\n",
    "df = pd.DataFrame(data)\n"
   ]
  },
  {
   "cell_type": "code",
   "execution_count": 7,
   "id": "d13f735d-e3de-4e56-8049-b2b32b643309",
   "metadata": {},
   "outputs": [
    {
     "name": "stdout",
     "output_type": "stream",
     "text": [
      "Dataset created and saved to: C:\\Users\\Amina.AMIN\\Desktop\\gitmal04\\life_expectancy.csv\n"
     ]
    }
   ],
   "source": [
    "# Save dataset to CSV\n",
    "df.to_csv(file_path, index=False)\n",
    "print(f\"Dataset created and saved to: {file_path}\")\n"
   ]
  },
  {
   "cell_type": "code",
   "execution_count": 9,
   "id": "a09a5f6c-1206-40be-98f0-73ad39ef2bf2",
   "metadata": {},
   "outputs": [
    {
     "data": {
      "text/html": [
       "<div>\n",
       "<style scoped>\n",
       "    .dataframe tbody tr th:only-of-type {\n",
       "        vertical-align: middle;\n",
       "    }\n",
       "\n",
       "    .dataframe tbody tr th {\n",
       "        vertical-align: top;\n",
       "    }\n",
       "\n",
       "    .dataframe thead th {\n",
       "        text-align: right;\n",
       "    }\n",
       "</style>\n",
       "<table border=\"1\" class=\"dataframe\">\n",
       "  <thead>\n",
       "    <tr style=\"text-align: right;\">\n",
       "      <th></th>\n",
       "      <th>Year</th>\n",
       "      <th>Region</th>\n",
       "      <th>Life expectancy</th>\n",
       "    </tr>\n",
       "  </thead>\n",
       "  <tbody>\n",
       "    <tr>\n",
       "      <th>0</th>\n",
       "      <td>1800</td>\n",
       "      <td>North America</td>\n",
       "      <td>42.47</td>\n",
       "    </tr>\n",
       "    <tr>\n",
       "      <th>1</th>\n",
       "      <td>1800</td>\n",
       "      <td>Europe</td>\n",
       "      <td>77.04</td>\n",
       "    </tr>\n",
       "    <tr>\n",
       "      <th>2</th>\n",
       "      <td>1800</td>\n",
       "      <td>Asia</td>\n",
       "      <td>63.92</td>\n",
       "    </tr>\n",
       "    <tr>\n",
       "      <th>3</th>\n",
       "      <td>1800</td>\n",
       "      <td>Africa</td>\n",
       "      <td>55.92</td>\n",
       "    </tr>\n",
       "    <tr>\n",
       "      <th>4</th>\n",
       "      <td>1800</td>\n",
       "      <td>Oceania</td>\n",
       "      <td>29.36</td>\n",
       "    </tr>\n",
       "  </tbody>\n",
       "</table>\n",
       "</div>"
      ],
      "text/plain": [
       "   Year         Region  Life expectancy\n",
       "0  1800  North America            42.47\n",
       "1  1800         Europe            77.04\n",
       "2  1800           Asia            63.92\n",
       "3  1800         Africa            55.92\n",
       "4  1800        Oceania            29.36"
      ]
     },
     "execution_count": 9,
     "metadata": {},
     "output_type": "execute_result"
    }
   ],
   "source": [
    "# Preview the dataset\n",
    "df.head()\n"
   ]
  },
  {
   "cell_type": "code",
   "execution_count": null,
   "id": "a9376bd4-2af4-4bc3-b78f-cf249268505e",
   "metadata": {},
   "outputs": [],
   "source": []
  }
 ],
 "metadata": {
  "kernelspec": {
   "display_name": "Python 3 (ipykernel)",
   "language": "python",
   "name": "python3"
  },
  "language_info": {
   "codemirror_mode": {
    "name": "ipython",
    "version": 3
   },
   "file_extension": ".py",
   "mimetype": "text/x-python",
   "name": "python",
   "nbconvert_exporter": "python",
   "pygments_lexer": "ipython3",
   "version": "3.12.4"
  }
 },
 "nbformat": 4,
 "nbformat_minor": 5
}
