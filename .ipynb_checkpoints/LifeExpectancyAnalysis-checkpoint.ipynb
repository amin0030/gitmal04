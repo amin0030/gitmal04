{
 "cells": [
  {
   "cell_type": "code",
   "execution_count": null,
   "id": "4ff97f5e-a20c-42c8-a2d4-e9b0a06f6642",
   "metadata": {},
   "outputs": [],
   "source": [
    "import pandas as pd\n",
    "import numpy as np\n",
    "import matplotlib.pyplot as plt\n",
    "import seaborn as sns\n",
    "from sklearn.model_selection import train_test_split\n",
    "from sklearn.linear_model import LinearRegression\n",
    "from sklearn.ensemble import RandomForestRegressor\n",
    "from sklearn.metrics import mean_squared_error, r2_score\n"
   ]
  },
  {
   "cell_type": "code",
   "execution_count": null,
   "id": "edd7b700-142d-47f0-90a1-4d94beb67b3a",
   "metadata": {},
   "outputs": [],
   "source": [
    "# Load the dataset\n",
    "file_path = \"path_to_your_dataset.csv\"  # Replace with your actual dataset path\n",
    "data = pd.read_csv(file_path)\n",
    "\n",
    "# Check the first few rows of the dataset\n",
    "data.head()\n"
   ]
  },
  {
   "cell_type": "code",
   "execution_count": null,
   "id": "127924fc-0e95-496b-ada3-48fa72ce934d",
   "metadata": {},
   "outputs": [],
   "source": [
    "# Get dataset information\n",
    "data.info()\n",
    "\n",
    "# Handle missing values\n",
    "data = data.dropna()\n",
    "\n",
    "# Ensure 'Year' is treated as an integer\n",
    "data['Year'] = data['Year'].astype(int)\n",
    "\n",
    "# Summary statistics\n",
    "data.describe()\n"
   ]
  },
  {
   "cell_type": "code",
   "execution_count": null,
   "id": "ca742a76-4b09-427e-a709-043fc2b1dcf8",
   "metadata": {},
   "outputs": [],
   "source": [
    "# Lineplot for Life Expectancy Over Time\n",
    "plt.figure(figsize=(12, 6))\n",
    "sns.lineplot(data=data, x='Year', y='Life expectancy', hue='Entity', legend=False)\n",
    "plt.title(\"Life Expectancy Over Time\")\n",
    "plt.xlabel(\"Year\")\n",
    "plt.ylabel(\"Life Expectancy\")\n",
    "plt.show()\n",
    "\n",
    "# Histogram of Life Expectancy\n",
    "plt.figure(figsize=(8, 5))\n",
    "sns.histplot(data['Life expectancy'], bins=20, kde=True, color='orange')\n",
    "plt.title(\"Distribution of Life Expectancy\")\n",
    "plt.xlabel(\"Life Expectancy\")\n",
    "plt.ylabel(\"Frequency\")\n",
    "plt.show()\n"
   ]
  },
  {
   "cell_type": "code",
   "execution_count": null,
   "id": "8c9efedb-fe75-4a80-afad-0491051f3895",
   "metadata": {},
   "outputs": [],
   "source": [
    "# Define Features (X) and Target (y)\n",
    "X = data[['Year']]  # Only using Year as a feature\n",
    "y = data['Life expectancy']\n",
    "\n",
    "# Split Data into Training and Testing Sets\n",
    "X_train, X_test, y_train, y_test = train_test_split(X, y, test_size=0.2, random_state=42)\n"
   ]
  },
  {
   "cell_type": "code",
   "execution_count": null,
   "id": "85a9e2f1-3d63-48c1-9d88-70b24129ac4d",
   "metadata": {},
   "outputs": [],
   "source": [
    "# Linear Regression Model\n",
    "lr_model = LinearRegression()\n",
    "lr_model.fit(X_train, y_train)\n",
    "y_pred_lr = lr_model.predict(X_test)\n",
    "\n",
    "# Random Forest Regressor Model\n",
    "rf_model = RandomForestRegressor(random_state=42, n_estimators=100)\n",
    "rf_model.fit(X_train, y_train)\n",
    "y_pred_rf = rf_model.predict(X_test)\n"
   ]
  },
  {
   "cell_type": "code",
   "execution_count": null,
   "id": "e45b3120-095c-4edd-a24c-fe7713f2167d",
   "metadata": {},
   "outputs": [],
   "source": [
    "# Function to Evaluate Models\n",
    "def evaluate_model(y_test, y_pred, model_name):\n",
    "    mse = mean_squared_error(y_test, y_pred)\n",
    "    r2 = r2_score(y_test, y_pred)\n",
    "    print(f\"{model_name} - Mean Squared Error: {mse:.2f}, R²: {r2:.2f}\")\n",
    "\n",
    "# Evaluate Both Models\n",
    "evaluate_model(y_test, y_pred_lr, \"Linear Regression\")\n",
    "evaluate_model(y_test, y_pred_rf, \"Random Forest Regressor\")\n"
   ]
  },
  {
   "cell_type": "code",
   "execution_count": null,
   "id": "10aa54f3-2ca3-4820-9158-ce6dafe86ca1",
   "metadata": {},
   "outputs": [],
   "source": [
    "# Linear Regression - Visualization\n",
    "plt.figure(figsize=(8, 6))\n",
    "plt.scatter(X_test, y_test, color='blue', label='Actual Values')\n",
    "plt.plot(X_test, y_pred_lr, color='red', label='Predictions (LR)')\n",
    "plt.title(\"Linear Regression - Actual vs. Predicted\")\n",
    "plt.xlabel(\"Year\")\n",
    "plt.ylabel(\"Life Expectancy\")\n",
    "plt.legend()\n",
    "plt.show()\n",
    "\n",
    "# Random Forest - Visualization\n",
    "plt.figure(figsize=(8, 6))\n",
    "plt.scatter(X_test, y_test, color='blue', label='Actual Values')\n",
    "plt.scatter(X_test, y_pred_rf, color='green', label='Predictions (RF)', alpha=0.6)\n",
    "plt.title(\"Random Forest - Actual vs. Predicted\")\n",
    "plt.xlabel(\"Year\")\n",
    "plt.ylabel(\"Life Expectancy\")\n",
    "plt.legend()\n",
    "plt.show()\n"
   ]
  },
  {
   "cell_type": "code",
   "execution_count": null,
   "id": "906a2aca-4d77-4f86-ae92-633e9249e77d",
   "metadata": {},
   "outputs": [],
   "source": [
    "# Future Years for Prediction\n",
    "future_years = pd.DataFrame({'Year': [2025, 2030, 2040, 2050]})\n",
    "\n",
    "# Predict Using Linear Regression\n",
    "future_pred_lr = lr_model.predict(future_years)\n",
    "\n",
    "# Predict Using Random Forest\n",
    "future_pred_rf = rf_model.predict(future_years)\n",
    "\n",
    "# Show Predictions\n",
    "print(\"Future Predictions (Linear Regression):\")\n",
    "print(future_years.assign(Life_Expectancy=future_pred_lr))\n",
    "\n",
    "print(\"\\nFuture Predictions (Random Forest):\")\n",
    "print(future_years.assign(Life_Expectancy=future_pred_rf))\n"
   ]
  },
  {
   "cell_type": "code",
   "execution_count": null,
   "id": "9c10e0d4-c835-414d-a89e-b9af9020fe97",
   "metadata": {},
   "outputs": [],
   "source": [
    "# Save Predictions to CSV\n",
    "predictions = future_years.copy()\n",
    "predictions['Life_Expectancy_LR'] = future_pred_lr\n",
    "predictions['Life_Expectancy_RF'] = future_pred_rf\n",
    "predictions.to_csv(\"future_predictions.csv\", index=False)\n",
    "\n",
    "print(\"Predictions saved to future_predictions.csv\")\n"
   ]
  }
 ],
 "metadata": {
  "kernelspec": {
   "display_name": "Python 3 (ipykernel)",
   "language": "python",
   "name": "python3"
  },
  "language_info": {
   "codemirror_mode": {
    "name": "ipython",
    "version": 3
   },
   "file_extension": ".py",
   "mimetype": "text/x-python",
   "name": "python",
   "nbconvert_exporter": "python",
   "pygments_lexer": "ipython3",
   "version": "3.12.4"
  }
 },
 "nbformat": 4,
 "nbformat_minor": 5
}
